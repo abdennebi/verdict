{
 "cells": [
  {
   "cell_type": "code",
   "execution_count": null,
   "id": "783215ed",
   "metadata": {},
   "outputs": [],
   "source": [
    "# install verdict\n",
    "!uv pip install verdict --system\n",
    "\n",
    "# data\n",
    "!wget https://raw.githubusercontent.com/nlpyang/geval/refs/heads/main/results/gpt4_coh_detailed.json --no-clobber\n",
    "\n",
    "# This notebook has been run ahead of time, so you can inspect outputs without making\n",
    "# any API calls. You can set your API key if you want to run the examples yourself.\n",
    "# %env OPENAI_API_KEY=*************************"
   ]
  },
  {
   "cell_type": "markdown",
   "id": "65725aa2-3f51-4781-a091-4a2b7c115620",
   "metadata": {},
   "source": [
    "> [**G-Eval: NLG Evaluation using GPT-4 with Better Human Alignment**](https://arxiv.org/abs/2303.16634)  \n",
    "> Yang Liu, Dan Iter, Yichong Xu, Shuohang Wang, Ruochen Xu, Chenguang Zhu  \n",
    "> EMNLP 2023"
   ]
  },
  {
   "cell_type": "code",
   "execution_count": 12,
   "id": "794b081f-3a30-42ac-a6e1-3bec1c772b78",
   "metadata": {},
   "outputs": [],
   "source": [
    "import pandas as pd\n",
    "from verdict.dataset import DatasetWrapper\n",
    "from verdict.schema import Schema\n",
    "\n",
    "df = pd.read_json(\"./gpt4_coh_detailed.json\")\n",
    "df['coherence'] = df['scores'].apply(lambda x: x['coherence'])\n",
    "\n",
    "dataset = DatasetWrapper.from_pandas(\n",
    "    df[['source', 'system_output', 'coherence']],\n",
    "    columns=['source', 'system_output']\n",
    ")"
   ]
  },
  {
   "cell_type": "code",
   "execution_count": 13,
   "id": "28c73ca4-8e2c-4152-aace-579953e26062",
   "metadata": {},
   "outputs": [
    {
     "data": {
      "image/png": "[encoded data removed]",
      "text/plain": [
       "<PIL.PngImagePlugin.PngImageFile image mode=RGBA size=637x155>"
      ]
     },
     "execution_count": 13,
     "metadata": {},
     "output_type": "execute_result"
    }
   ],
   "source": [
    "from verdict import Pipeline\n",
    "from verdict.common.cot import CoTUnit\n",
    "from verdict.common.judge import JudgeUnit\n",
    "from verdict.scale import DiscreteScale\n",
    "from verdict.extractor import WeightedSummedScoreExtractor\n",
    "\n",
    "TASK = \"\"\"You will be given one summary written for a news article.\n",
    "\n",
    "Your task is to rate the summary on one metric.\n",
    "\n",
    "Please make sure you read and understand these instructions carefully. Please keep this document open while reviewing, and refer to it as needed.\n",
    "\n",
    "Evaluation Criteria:\n",
    "    Coherence (1-5) - the collective quality of all sentences. We align this dimension with the DUC quality question of structure and coherence whereby ”the summary should be well-structured and well-organized. The summary should not just be a heap of related information, but should build from sentence to sentence to a coherent body of information about a topic.\n",
    "\"\"\"\n",
    "\n",
    "pipeline = Pipeline(\"GEval\") \\\n",
    "    >> CoTUnit().prompt(f\"\"\"\n",
    "        Generate evaluation steps for the following task:\n",
    "\n",
    "        {TASK}\n",
    "\n",
    "        Evaluation Steps:\n",
    "    \"\"\").via(\"gpt-3.5-turbo\", retries=3, temperature=0.0) \\\n",
    "    >> JudgeUnit(DiscreteScale((1, 5))).prompt(f\"\"\"\n",
    "        {TASK}\n",
    "\n",
    "        Evaluation Steps:\n",
    "\n",
    "        {{previous.thinking}}\n",
    "\n",
    "\n",
    "        Example:\n",
    "\n",
    "\n",
    "        Source Text:\n",
    "\n",
    "        {{source.source}}\n",
    "\n",
    "        Summary:\n",
    "\n",
    "        {{source.system_output}}\n",
    "\n",
    "\n",
    "        Evaluation Form (scores ONLY):\n",
    "\n",
    "        - Coherence:\n",
    "        \"\"\").extract(WeightedSummedScoreExtractor()).via(\"gpt-3.5-turbo\", retries=3, temperature=0.0)\n",
    "\n",
    "pipeline.plot()"
   ]
  },
  {
   "cell_type": "code",
   "execution_count": 14,
   "id": "9908e45b-6572-4d6e-8487-6837fdd42bef",
   "metadata": {},
   "outputs": [],
   "source": [
    "results_df, leaf_node_prefixes = pipeline.run_from_dataset(dataset['all'], max_workers=512)"
   ]
  },
  {
   "cell_type": "code",
   "execution_count": 15,
   "id": "f868ce7f-6d87-4c89-8eac-d3189b3f60ad",
   "metadata": {},
   "outputs": [
    {
     "data": {
      "text/html": [
       "<pre style=\"white-space:pre;overflow-x:auto;line-height:normal;font-family:Menlo,'DejaVu Sans Mono',consolas,'Courier New',monospace\"> ───────────────────────────────────────────────────────────────────────────────────────────────────────────────── \n",
       " <span style=\"font-weight: bold\">              </span> <span style=\"font-weight: bold\">                                                               </span> <span style=\"font-weight: bold\">  </span> <span style=\"font-weight: bold\">       </span> <span style=\"font-weight: bold\"> Cohen </span> <span style=\"font-weight: bold\"> Kend… </span> <span style=\"font-weight: bold\"> Spea… </span> \n",
       " <span style=\"font-weight: bold\"> Ground Truth </span> <span style=\"font-weight: bold\"> Prediction                                                    </span> <span style=\"font-weight: bold\">  </span> <span style=\"font-weight: bold\"> Acc.  </span> <span style=\"font-weight: bold\">  (κ)  </span> <span style=\"font-weight: bold\">  (τ)  </span> <span style=\"font-weight: bold\">  (ρ)  </span> \n",
       " ───────────────────────────────────────────────────────────────────────────────────────────────────────────────── \n",
       "     coherence   GEval_root.block.unit[CoT].block.unit[DirectScoreJudge]_score      0.00%     —     0.13    0.19   \n",
       " ───────────────────────────────────────────────────────────────────────────────────────────────────────────────── \n",
       "</pre>\n"
      ],
      "text/plain": [
       " ───────────────────────────────────────────────────────────────────────────────────────────────────────────────── \n",
       " \u001b[1m              \u001b[0m \u001b[1m                                                               \u001b[0m \u001b[1m  \u001b[0m \u001b[1m       \u001b[0m \u001b[1m \u001b[0m\u001b[1mCohen\u001b[0m\u001b[1m \u001b[0m \u001b[1m \u001b[0m\u001b[1mKend…\u001b[0m\u001b[1m \u001b[0m \u001b[1m \u001b[0m\u001b[1mSpea…\u001b[0m\u001b[1m \u001b[0m \n",
       " \u001b[1m \u001b[0m\u001b[1mGround Truth\u001b[0m\u001b[1m \u001b[0m \u001b[1m \u001b[0m\u001b[1mPrediction                                                   \u001b[0m\u001b[1m \u001b[0m \u001b[1m  \u001b[0m \u001b[1m \u001b[0m\u001b[1mAcc. \u001b[0m\u001b[1m \u001b[0m \u001b[1m \u001b[0m\u001b[1m (κ) \u001b[0m\u001b[1m \u001b[0m \u001b[1m \u001b[0m\u001b[1m (τ) \u001b[0m\u001b[1m \u001b[0m \u001b[1m \u001b[0m\u001b[1m (ρ) \u001b[0m\u001b[1m \u001b[0m \n",
       " ───────────────────────────────────────────────────────────────────────────────────────────────────────────────── \n",
       "     coherence   GEval_root.block.unit[CoT].block.unit[DirectScoreJudge]_score      0.00%     —     0.13    0.19   \n",
       " ───────────────────────────────────────────────────────────────────────────────────────────────────────────────── \n"
      ]
     },
     "metadata": {},
     "output_type": "display_data"
    }
   ],
   "source": [
    "from verdict.util.experiment import ExperimentConfig, display_stats\n",
    "\n",
    "display_stats(\n",
    "    results_df,\n",
    "    ExperimentConfig(\n",
    "        ground_truth_cols=[\"coherence\"],\n",
    "        prediction_cols=leaf_node_prefixes\n",
    "    ));"
   ]
  }
 ],
 "metadata": {
  "kernelspec": {
   "display_name": "Python 3 (ipykernel)",
   "language": "python",
   "name": "python3"
  },
  "language_info": {
   "codemirror_mode": {
    "name": "ipython",
    "version": 3
   },
   "file_extension": ".py",
   "mimetype": "text/x-python",
   "name": "python",
   "nbconvert_exporter": "python",
   "pygments_lexer": "ipython3",
   "version": "3.9.21"
  }
 },
 "nbformat": 4,
 "nbformat_minor": 5
}
